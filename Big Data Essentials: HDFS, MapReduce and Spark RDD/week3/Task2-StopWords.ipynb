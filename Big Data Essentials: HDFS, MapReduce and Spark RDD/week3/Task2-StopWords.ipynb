{
 "cells": [
  {
   "cell_type": "markdown",
   "metadata": {
    "colab_type": "text",
    "id": "Xsd0oermS80K"
   },
   "source": [
    "# Hadoop Streaming assignment 2: Stop Words"
   ]
  },
  {
   "cell_type": "code",
   "execution_count": 24,
   "metadata": {
    "colab": {
     "autoexec": {
      "startup": false,
      "wait_interval": 0
     }
    },
    "colab_type": "code",
    "id": "KU56zkC0S80M"
   },
   "outputs": [
    {
     "name": "stdout",
     "output_type": "stream",
     "text": [
      "Overwriting mapper3.py\n"
     ]
    }
   ],
   "source": [
    "%%writefile mapper3.py\n",
    "\n",
    "import sys\n",
    "import re\n",
    "\n",
    "\n",
    "path = 'stop_words_en.txt'\n",
    "\n",
    "# Your code for reading stop words here\n",
    "stop_words = set(word.strip() for word in open(path))\n",
    "\n",
    "for line in sys.stdin:\n",
    "    try:\n",
    "        article_id, text = line.strip().split('\\t', 1)\n",
    "    except ValueError as e:\n",
    "        continue\n",
    "\n",
    "    words = re.split(\"\\W*\\s+\\W*\", text, flags=re.UNICODE)\n",
    "    for word in words:\n",
    "        if word.lower() in stop_words:\n",
    "            sys.stderr.write(f'reporter:counter:Wiki stats,Stop words,1\\n')\n",
    "        sys.stderr.write(f'reporter:counter:Wiki stats,Total words,1\\n')\n",
    "        print(f'{word.lower()}\\t1')"
   ]
  },
  {
   "cell_type": "code",
   "execution_count": 19,
   "metadata": {},
   "outputs": [
    {
     "name": "stdout",
     "output_type": "stream",
     "text": [
      "Overwriting reducer3.py\n"
     ]
    }
   ],
   "source": [
    "%%writefile reducer3.py\n",
    "\n",
    "# Your code for reducer here.\n",
    "import sys\n",
    "\n",
    "current_key = None\n",
    "word_sum = 0\n",
    "\n",
    "for line in sys.stdin:\n",
    "    try:\n",
    "        key, count = line.strip().split('\\t', 1)\n",
    "        count = int(count)\n",
    "    except ValueError as e:\n",
    "        continue\n",
    "    if current_key != key:\n",
    "        if current_key:\n",
    "            print \"%s\\t%d\" % (current_key, word_sum)\n",
    "        word_sum = 0\n",
    "        current_key = key\n",
    "    word_sum += count\n",
    "\n",
    "if current_key:\n",
    "    print \"%s\\t%d\" % (current_key, word_sum)"
   ]
  },
  {
   "cell_type": "code",
   "execution_count": 27,
   "metadata": {
    "scrolled": true
   },
   "outputs": [
    {
     "name": "stdout",
     "output_type": "stream",
     "text": [
      "Overwriting counter_process.py\n"
     ]
    }
   ],
   "source": [
    "%%writefile counter_process.py\n",
    "\n",
    "import sys\n",
    "import re\n",
    "\n",
    "stop_counter = sys.argv[1]\n",
    "total_counter = sys.argv[2]\n",
    "\n",
    "for line in sys.stdin:\n",
    "    if re.search(stop_counter, line):\n",
    "        stop_words_cnt = int(re.findall('\\d+', line)[0])\n",
    "    if re.search(total_counter, line):\n",
    "        total_words_cnt = int(re.findall('\\d+', line)[0])\n",
    "\n",
    "#print(\"stop_words : \",stop_words_cnt)\n",
    "print(round(stop_words_cnt/total_words_cnt*100,3))"
   ]
  },
  {
   "cell_type": "code",
   "execution_count": 7,
   "metadata": {
    "scrolled": true
   },
   "outputs": [
    {
     "name": "stderr",
     "output_type": "stream",
     "text": [
      "rm: `result_stopwords': No such file or directory\n",
      "bash: line 6: output.log: Permission denied\n",
      "Traceback (most recent call last):\n",
      "  File \"counter_process.py\", line 18, in <module>\n",
      "    print(ratioStopTotal(sys.argv[1], sys.argv[2]))\n",
      "  File \"counter_process.py\", line 13, in ratioStopTotal\n",
      "    return round(float(flag_stop*100)/flag_nonstop,3)\n",
      "UnboundLocalError: local variable 'flag_stop' referenced before assignment\n"
     ]
    }
   ],
   "source": [
    "%%bash\n",
    "\n",
    "OUT_DIR=\"result_stopwords\"\n",
    "NUM_REDUCERS=4\n",
    "LOGS=\"stderr_logs.txt\"\n",
    "hdfs dfs -rm -r -skipTrash ${OUT_DIR} > /dev/null\n",
    "\n",
    "yarn jar /opt/cloudera/parcels/CDH/lib/hadoop-mapreduce/hadoop-streaming.jar \\\n",
    "    -D mapreduce.job.name=\"Calculating Stop words\" \\\n",
    "    -D mapreduce.job.reduces=0 \\\n",
    "    -files mapper3.py,/datasets/stop_words_en.txt \\\n",
    "    -mapper \"python3 mapper3.py\" \\\n",
    "    -input /data/wiki/en_articles_part \\\n",
    "    -output ${OUT_DIR} > /dev/null 2> $LOGS\n",
    "\n",
    "cat $LOGS | python3 ./counter_process.py \"Stop words\" \"Total words\"\n",
    "cat $LOGS >&2"
   ]
  },
  {
   "cell_type": "code",
   "execution_count": null,
   "metadata": {},
   "outputs": [],
   "source": []
  }
 ],
 "metadata": {
  "colab": {
   "collapsed_sections": [],
   "default_view": {},
   "name": "702_to_students.ipynb",
   "provenance": [],
   "version": "0.3.2",
   "views": {}
  },
  "kernelspec": {
   "display_name": "Python 3",
   "language": "python",
   "name": "python3"
  },
  "language_info": {
   "codemirror_mode": {
    "name": "ipython",
    "version": 3
   },
   "file_extension": ".py",
   "mimetype": "text/x-python",
   "name": "python",
   "nbconvert_exporter": "python",
   "pygments_lexer": "ipython3",
   "version": "3.6.6"
  }
 },
 "nbformat": 4,
 "nbformat_minor": 1
}
